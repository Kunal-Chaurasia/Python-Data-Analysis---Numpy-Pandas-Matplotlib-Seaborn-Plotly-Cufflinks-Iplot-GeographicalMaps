{
 "cells": [
  {
   "cell_type": "code",
   "execution_count": 1,
   "id": "c2ac6a62-690f-44f0-abdc-f014180951e0",
   "metadata": {},
   "outputs": [
    {
     "data": {
      "text/plain": [
       "1"
      ]
     },
     "execution_count": 1,
     "metadata": {},
     "output_type": "execute_result"
    }
   ],
   "source": [
    "1"
   ]
  },
  {
   "cell_type": "code",
   "execution_count": 2,
   "id": "9aa89c9d-9caf-414a-9f52-146dcd6fe84b",
   "metadata": {},
   "outputs": [
    {
     "data": {
      "text/plain": [
       "1.0"
      ]
     },
     "execution_count": 2,
     "metadata": {},
     "output_type": "execute_result"
    }
   ],
   "source": [
    "1.0"
   ]
  },
  {
   "cell_type": "code",
   "execution_count": 3,
   "id": "b27a9db0-2c17-4580-8810-0b8b02f005ba",
   "metadata": {},
   "outputs": [
    {
     "data": {
      "text/plain": [
       "2"
      ]
     },
     "execution_count": 3,
     "metadata": {},
     "output_type": "execute_result"
    }
   ],
   "source": [
    "1+1"
   ]
  },
  {
   "cell_type": "code",
   "execution_count": 4,
   "id": "7192257c-8f2f-4f3e-879a-2c75e145acf1",
   "metadata": {},
   "outputs": [
    {
     "ename": "SyntaxError",
     "evalue": "invalid syntax (627689206.py, line 1)",
     "output_type": "error",
     "traceback": [
      "\u001b[1;36m  Cell \u001b[1;32mIn[4], line 1\u001b[1;36m\u001b[0m\n\u001b[1;33m    1*3+\u001b[0m\n\u001b[1;37m        ^\u001b[0m\n\u001b[1;31mSyntaxError\u001b[0m\u001b[1;31m:\u001b[0m invalid syntax\n"
     ]
    }
   ],
   "source": [
    "1*3+"
   ]
  },
  {
   "cell_type": "code",
   "execution_count": 5,
   "id": "f2ccf9ed-9642-4a68-b64a-cab79a84a6ed",
   "metadata": {},
   "outputs": [
    {
     "data": {
      "text/plain": [
       "3"
      ]
     },
     "execution_count": 5,
     "metadata": {},
     "output_type": "execute_result"
    }
   ],
   "source": [
    "1*3"
   ]
  },
  {
   "cell_type": "code",
   "execution_count": 6,
   "id": "c7dbbad4-4bf1-4fde-b62a-5bcce8b95f10",
   "metadata": {},
   "outputs": [
    {
     "data": {
      "text/plain": [
       "0.5"
      ]
     },
     "execution_count": 6,
     "metadata": {},
     "output_type": "execute_result"
    }
   ],
   "source": [
    "1/2"
   ]
  },
  {
   "cell_type": "code",
   "execution_count": 7,
   "id": "706b5c0f-6c6e-4f8a-8eef-a71b6a47aafc",
   "metadata": {},
   "outputs": [
    {
     "data": {
      "text/plain": [
       "16"
      ]
     },
     "execution_count": 7,
     "metadata": {},
     "output_type": "execute_result"
    }
   ],
   "source": [
    "2 ** 4"
   ]
  },
  {
   "cell_type": "code",
   "execution_count": 8,
   "id": "42839eec-f8ab-4b8c-8851-713678fe9f37",
   "metadata": {},
   "outputs": [
    {
     "data": {
      "text/plain": [
       "22"
      ]
     },
     "execution_count": 8,
     "metadata": {},
     "output_type": "execute_result"
    }
   ],
   "source": [
    "2+3*5+5"
   ]
  },
  {
   "cell_type": "code",
   "execution_count": 9,
   "id": "793e065f-527c-4156-a53d-ba017e28221c",
   "metadata": {},
   "outputs": [
    {
     "data": {
      "text/plain": [
       "0"
      ]
     },
     "execution_count": 9,
     "metadata": {},
     "output_type": "execute_result"
    }
   ],
   "source": [
    "4%2"
   ]
  },
  {
   "cell_type": "code",
   "execution_count": 10,
   "id": "792ad256-5759-4306-a64b-f78440bc62dc",
   "metadata": {},
   "outputs": [
    {
     "data": {
      "text/plain": [
       "1"
      ]
     },
     "execution_count": 10,
     "metadata": {},
     "output_type": "execute_result"
    }
   ],
   "source": [
    "5%2"
   ]
  },
  {
   "cell_type": "code",
   "execution_count": 11,
   "id": "f325646c-fc24-424e-a043-f0dd9339b29f",
   "metadata": {},
   "outputs": [],
   "source": [
    "var = 2"
   ]
  },
  {
   "cell_type": "code",
   "execution_count": 12,
   "id": "1ff7c046-1cec-4259-ae1d-d27bcf59895f",
   "metadata": {},
   "outputs": [
    {
     "data": {
      "text/plain": [
       "2"
      ]
     },
     "execution_count": 12,
     "metadata": {},
     "output_type": "execute_result"
    }
   ],
   "source": [
    "var"
   ]
  },
  {
   "cell_type": "code",
   "execution_count": 13,
   "id": "4a1308c3-5285-45c0-9ff5-926ab6770e9b",
   "metadata": {},
   "outputs": [],
   "source": [
    "x =2\n",
    "y=3\n"
   ]
  },
  {
   "cell_type": "code",
   "execution_count": 14,
   "id": "4d5eac67-a9be-4515-ac02-e2319b55f477",
   "metadata": {},
   "outputs": [
    {
     "data": {
      "text/plain": [
       "5"
      ]
     },
     "execution_count": 14,
     "metadata": {},
     "output_type": "execute_result"
    }
   ],
   "source": [
    "x+y"
   ]
  },
  {
   "cell_type": "code",
   "execution_count": 15,
   "id": "bdbfa882-557c-443d-9127-495940b8f83c",
   "metadata": {},
   "outputs": [
    {
     "data": {
      "text/plain": [
       "'single quote'"
      ]
     },
     "execution_count": 15,
     "metadata": {},
     "output_type": "execute_result"
    }
   ],
   "source": [
    "'single quote'"
   ]
  },
  {
   "cell_type": "code",
   "execution_count": 16,
   "id": "02b02f02-b5b6-4945-9699-bb3283c231bc",
   "metadata": {},
   "outputs": [
    {
     "data": {
      "text/plain": [
       "'double quote'"
      ]
     },
     "execution_count": 16,
     "metadata": {},
     "output_type": "execute_result"
    }
   ],
   "source": [
    "\"double quote\""
   ]
  },
  {
   "cell_type": "code",
   "execution_count": 17,
   "id": "8ee69e42-aba4-41f1-9712-99c0a2a5111a",
   "metadata": {},
   "outputs": [
    {
     "data": {
      "text/plain": [
       "\"i can't go\""
      ]
     },
     "execution_count": 17,
     "metadata": {},
     "output_type": "execute_result"
    }
   ],
   "source": [
    "\"i can't go\""
   ]
  },
  {
   "cell_type": "code",
   "execution_count": 18,
   "id": "75dec49a-bc3e-4c9e-baa8-73fa1f4baf36",
   "metadata": {},
   "outputs": [],
   "source": [
    "x = 'Hello'"
   ]
  },
  {
   "cell_type": "code",
   "execution_count": 19,
   "id": "1f484b64-13b0-439c-8534-c13d35d1f195",
   "metadata": {},
   "outputs": [
    {
     "data": {
      "text/plain": [
       "'Hello'"
      ]
     },
     "execution_count": 19,
     "metadata": {},
     "output_type": "execute_result"
    }
   ],
   "source": [
    "x"
   ]
  },
  {
   "cell_type": "code",
   "execution_count": 20,
   "id": "e9e56b9e-ce04-44a4-bfb3-caa9d1b4221d",
   "metadata": {},
   "outputs": [
    {
     "name": "stdout",
     "output_type": "stream",
     "text": [
      "Hello\n"
     ]
    }
   ],
   "source": [
    "print(x)"
   ]
  },
  {
   "cell_type": "code",
   "execution_count": 21,
   "id": "747956c9-afc9-4793-bb0a-fd75f0b6145f",
   "metadata": {},
   "outputs": [],
   "source": [
    "num = 12\n",
    "name='Sam'"
   ]
  },
  {
   "cell_type": "code",
   "execution_count": 23,
   "id": "09bafdc0-b842-42e4-ba89-af89bdf49362",
   "metadata": {},
   "outputs": [
    {
     "name": "stdout",
     "output_type": "stream",
     "text": [
      "My number is 12 and my name is Sam\n"
     ]
    }
   ],
   "source": [
    "print('My number is {a} and my name is {b}'.format(a=num,b=name))"
   ]
  },
  {
   "cell_type": "code",
   "execution_count": 28,
   "id": "c7b9296f-0ed0-451f-a03b-1077d59a95ca",
   "metadata": {},
   "outputs": [],
   "source": [
    "s = 'abcdefghijk'"
   ]
  },
  {
   "cell_type": "code",
   "execution_count": 32,
   "id": "289767e0-1217-40ff-86e3-47fc5f57895d",
   "metadata": {},
   "outputs": [
    {
     "data": {
      "text/plain": [
       "'abcde'"
      ]
     },
     "execution_count": 32,
     "metadata": {},
     "output_type": "execute_result"
    }
   ],
   "source": [
    "s [:5]"
   ]
  },
  {
   "cell_type": "code",
   "execution_count": 34,
   "id": "9bc46f74-6286-47e8-86c4-69216c122798",
   "metadata": {},
   "outputs": [
    {
     "data": {
      "text/plain": [
       "'defghi'"
      ]
     },
     "execution_count": 34,
     "metadata": {},
     "output_type": "execute_result"
    }
   ],
   "source": [
    "s[3:9]"
   ]
  },
  {
   "cell_type": "code",
   "execution_count": 35,
   "id": "41d896a4-ef2d-4b4c-9483-529d69f7dfa6",
   "metadata": {},
   "outputs": [
    {
     "data": {
      "text/plain": [
       "[1, 2, 3]"
      ]
     },
     "execution_count": 35,
     "metadata": {},
     "output_type": "execute_result"
    }
   ],
   "source": [
    "[1,2,3]"
   ]
  },
  {
   "cell_type": "code",
   "execution_count": 37,
   "id": "a83afb7c-0a8f-4456-b6bd-bc84f37f5244",
   "metadata": {},
   "outputs": [],
   "source": [
    "my_list=['a','b','c']"
   ]
  },
  {
   "cell_type": "code",
   "execution_count": 38,
   "id": "50fdf479-6202-4efe-a8a0-3cc68a2e1191",
   "metadata": {},
   "outputs": [
    {
     "data": {
      "text/plain": [
       "['a', 'b', 'c']"
      ]
     },
     "execution_count": 38,
     "metadata": {},
     "output_type": "execute_result"
    }
   ],
   "source": [
    "my_list"
   ]
  },
  {
   "cell_type": "code",
   "execution_count": 39,
   "id": "855036d3-59a1-423d-854b-025cb60cdde1",
   "metadata": {},
   "outputs": [],
   "source": [
    "my_list.append('d')"
   ]
  },
  {
   "cell_type": "code",
   "execution_count": 40,
   "id": "3541a27e-f93e-4ea1-b032-18b2653952fd",
   "metadata": {},
   "outputs": [
    {
     "data": {
      "text/plain": [
       "['a', 'b', 'c', 'd']"
      ]
     },
     "execution_count": 40,
     "metadata": {},
     "output_type": "execute_result"
    }
   ],
   "source": [
    "my_list"
   ]
  },
  {
   "cell_type": "code",
   "execution_count": 41,
   "id": "68f68e63-6bb8-4474-81ce-15f88d7fb636",
   "metadata": {},
   "outputs": [
    {
     "data": {
      "text/plain": [
       "'a'"
      ]
     },
     "execution_count": 41,
     "metadata": {},
     "output_type": "execute_result"
    }
   ],
   "source": [
    "my_list[0]"
   ]
  },
  {
   "cell_type": "code",
   "execution_count": 42,
   "id": "995356d6-0266-4f25-b5b8-5990c938cf70",
   "metadata": {},
   "outputs": [
    {
     "data": {
      "text/plain": [
       "['b', 'c', 'd']"
      ]
     },
     "execution_count": 42,
     "metadata": {},
     "output_type": "execute_result"
    }
   ],
   "source": [
    "my_list[1:]"
   ]
  },
  {
   "cell_type": "code",
   "execution_count": 43,
   "id": "9672f0e6-0b1b-44c1-a5d1-bc6e6f475d66",
   "metadata": {},
   "outputs": [
    {
     "data": {
      "text/plain": [
       "['b', 'c']"
      ]
     },
     "execution_count": 43,
     "metadata": {},
     "output_type": "execute_result"
    }
   ],
   "source": [
    "my_list[1:3]"
   ]
  },
  {
   "cell_type": "code",
   "execution_count": 44,
   "id": "e297e3fe-a99a-4c4f-8931-cf4628aa22f2",
   "metadata": {},
   "outputs": [],
   "source": [
    "my_list[0] = 'NEW'"
   ]
  },
  {
   "cell_type": "code",
   "execution_count": 45,
   "id": "134c0095-3ab0-4fc7-8d54-3bd761759c82",
   "metadata": {},
   "outputs": [
    {
     "data": {
      "text/plain": [
       "['NEW', 'b', 'c', 'd']"
      ]
     },
     "execution_count": 45,
     "metadata": {},
     "output_type": "execute_result"
    }
   ],
   "source": [
    "my_list"
   ]
  },
  {
   "cell_type": "code",
   "execution_count": 46,
   "id": "e4566f11-3bbd-4ed8-a353-8c60c9cec467",
   "metadata": {},
   "outputs": [],
   "source": [
    "nest = [1,2,[3,4]]"
   ]
  },
  {
   "cell_type": "code",
   "execution_count": 47,
   "id": "9f4b215f-8b57-40a6-8210-2fe459a710b6",
   "metadata": {},
   "outputs": [
    {
     "data": {
      "text/plain": [
       "[1, 2, [3, 4]]"
      ]
     },
     "execution_count": 47,
     "metadata": {},
     "output_type": "execute_result"
    }
   ],
   "source": [
    "nest"
   ]
  },
  {
   "cell_type": "code",
   "execution_count": 48,
   "id": "2eee5882-6f1b-4ac4-b227-45a6b028e184",
   "metadata": {},
   "outputs": [
    {
     "data": {
      "text/plain": [
       "[3, 4]"
      ]
     },
     "execution_count": 48,
     "metadata": {},
     "output_type": "execute_result"
    }
   ],
   "source": [
    "nest [2]"
   ]
  },
  {
   "cell_type": "code",
   "execution_count": 51,
   "id": "874b566a-c45f-4778-93c1-96fff75ab67e",
   "metadata": {},
   "outputs": [],
   "source": [
    "nest = [1,2,3,[3,4,['target']]]"
   ]
  },
  {
   "cell_type": "code",
   "execution_count": 53,
   "id": "7037b3fe-b5b3-4b8b-9c1e-9f3d7cda071a",
   "metadata": {},
   "outputs": [
    {
     "name": "stdout",
     "output_type": "stream",
     "text": [
      "target\n"
     ]
    }
   ],
   "source": [
    "print(nest[3][2][0])"
   ]
  },
  {
   "cell_type": "code",
   "execution_count": null,
   "id": "9c5b5742-502b-4b5d-9112-88c2016ce0a2",
   "metadata": {},
   "outputs": [],
   "source": []
  }
 ],
 "metadata": {
  "kernelspec": {
   "display_name": "Python 3 (ipykernel)",
   "language": "python",
   "name": "python3"
  },
  "language_info": {
   "codemirror_mode": {
    "name": "ipython",
    "version": 3
   },
   "file_extension": ".py",
   "mimetype": "text/x-python",
   "name": "python",
   "nbconvert_exporter": "python",
   "pygments_lexer": "ipython3",
   "version": "3.11.5"
  }
 },
 "nbformat": 4,
 "nbformat_minor": 5
}
